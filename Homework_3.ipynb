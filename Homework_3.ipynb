{
 "cells": [
  {
   "cell_type": "markdown",
   "metadata": {},
   "source": [
    "# Homework 3\n",
    "Modify Homework 1\n",
    "\n",
    "Omit the last 2 values (which are not total energies but some statistic associated with md simulations)\n",
    "\n",
    "Create a command line script (analyze_mdout.py) using argparse which can take in an mdout file from Amber, pull out total energy for each time step, and write a new file containing these values"
   ]
  },
  {
   "cell_type": "code",
   "execution_count": 1,
   "metadata": {},
   "outputs": [],
   "source": [
    "import os\n",
    "import numpy\n",
    "import argparse\n",
    "\n",
    "homework_file = os.path.join('data','03_Prod.mdout')\n",
    "\n",
    "\n",
    "filehandle = open('Etot.txt','w+')\n",
    "\n",
    "\n",
    "outfile = open(homework_file,'r') \n",
    "data = outfile.readlines() \n",
    "outfile.close()                   \n",
    "\n",
    "for line in data:\n",
    "    if 'NSTEP' in line:\n",
    "        step_line = line\n",
    "        step_split = step_line.split()\n",
    "        step = step_split[2]\n",
    "    \n",
    "    if 'Etot' in line:\n",
    "        energy_line = line\n",
    "        etot_words = energy_line.split()\n",
    "        energy = float(etot_words[2])\n",
    "        \n",
    "        \n",
    "        filehandle.write(F' {step}\\t {energy} \\n')\n",
    "                         \n",
    "filehandle.close()"
   ]
  },
  {
   "cell_type": "code",
   "execution_count": null,
   "metadata": {},
   "outputs": [],
   "source": [
    "import os\n",
    "import argparse\n",
    "import glob\n",
    "\n",
    "if __name__ == \"__main__\":\n",
    "\n",
    "\n",
    "    parser = argparse.ArgumentParser(description=\"This script parses amber mdout files to extract the total energy.\")\n",
    "    parser.add_argument(\"mdout_file\",help=\"The filepath to the file to be analyzed\")\n",
    "    args = parser.parse_args()\n",
    "\n",
    "    file_location = args.mdout_file\n",
    "    \n",
    "    filehandle = open(file_location)\n",
    "    \n",
    "    data = filehandle.readlines() \n",
    "    filehandle.close() \n",
    "\n",
    "    filename = os.path.basename(args.mdout_file).split('.')[0]\n",
    "   \n",
    "    #Loop through the lines to obtain the total energies per step         \n",
    "    #how to get rid of the last 2 values at the end (not associated with the md simulation)\n",
    "\n",
    "    etot = []\n",
    "    for line in data:\n",
    "\n",
    "        if 'Etot' in line:\n",
    "            energy_line = line\n",
    "            etot_words = energy_line.split()\n",
    "            energy = float(etot_words[2])\n",
    "            etot.append(energy)\n",
    "\n",
    "        just_etot = etot[:-2] #omit the last 2\n",
    "        \n",
    "    outfile_location = F' {filename}_Etot.txt'\n",
    "    outfile = open(outfile_location, 'w+')\n",
    "    \n",
    "    for value in just_etot:\n",
    "        outfile.write(f'{value}\\n')\n",
    "\n",
    "    outfile.close()\n",
    "\n",
    "                "
   ]
  },
  {
   "cell_type": "code",
   "execution_count": null,
   "metadata": {},
   "outputs": [],
   "source": []
  }
 ],
 "metadata": {
  "kernelspec": {
   "display_name": "Python 3",
   "language": "python",
   "name": "python3"
  },
  "language_info": {
   "codemirror_mode": {
    "name": "ipython",
    "version": 3
   },
   "file_extension": ".py",
   "mimetype": "text/x-python",
   "name": "python",
   "nbconvert_exporter": "python",
   "pygments_lexer": "ipython3",
   "version": "3.7.6"
  }
 },
 "nbformat": 4,
 "nbformat_minor": 4
}
