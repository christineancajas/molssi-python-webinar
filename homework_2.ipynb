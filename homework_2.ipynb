{
 "cells": [
  {
   "cell_type": "markdown",
   "metadata": {},
   "source": [
    "# Homework 2\n",
    "Geometry Analysis Project: determine the bond lengths between each atom in a water molecule"
   ]
  },
  {
   "cell_type": "code",
   "execution_count": 1,
   "metadata": {},
   "outputs": [],
   "source": [
    "import numpy\n",
    "import os"
   ]
  },
  {
   "cell_type": "code",
   "execution_count": 82,
   "metadata": {},
   "outputs": [
    {
     "name": "stdout",
     "output_type": "stream",
     "text": [
      "[['O' '0.000000' '-0.007156' '0.965491']\n",
      " ['H1' '-0.000000' '0.001486' '-0.003471']\n",
      " ['H2' '0.000000' '0.931026' '1.207929']]\n"
     ]
    }
   ],
   "source": [
    "# read the data, skip the first 2 header since we don't really need them\n",
    "\n",
    "water_file = os.path.join('data','water.xyz')\n",
    "data = numpy.genfromtxt(fname = water_file, skip_header = 2, delimiter = '' , dtype = 'unicode')\n",
    "print(data)"
   ]
  },
  {
   "cell_type": "code",
   "execution_count": 121,
   "metadata": {},
   "outputs": [
    {
     "name": "stdout",
     "output_type": "stream",
     "text": [
      "[[ 0.       -0.007156  0.965491]\n",
      " [-0.        0.001486 -0.003471]\n",
      " [ 0.        0.931026  1.207929]]\n",
      "['O' 'H1' 'H2']\n"
     ]
    }
   ],
   "source": [
    "# separate the atoms (strings) and the coordinates (cast data string to float)\n",
    "\n",
    "atoms = data[:,0]\n",
    "coord = data[:,1:].astype(numpy.float)\n",
    "\n",
    "num_rows = len(atoms) # = number of atoms\n",
    "\n",
    "print(coord)\n",
    "print(atoms)\n",
    "#print(num_atoms)"
   ]
  },
  {
   "cell_type": "code",
   "execution_count": 122,
   "metadata": {},
   "outputs": [
    {
     "name": "stdout",
     "output_type": "stream",
     "text": [
      " y[O]1 - y[O]2 = 0.0\n",
      " y[O]1 - y[H1]2 = -0.008642\n",
      " y[O]1 - y[H2]2 = -0.9381820000000001\n",
      " y[H1]1 - y[O]2 = 0.008642\n",
      " y[H1]1 - y[H1]2 = 0.0\n",
      " y[H1]1 - y[H2]2 = -0.92954\n",
      " y[H2]1 - y[O]2 = 0.9381820000000001\n",
      " y[H2]1 - y[H1]2 = 0.92954\n",
      " y[H2]1 - y[H2]2 = 0.0\n"
     ]
    }
   ],
   "source": [
    "# test loop\n",
    "\n",
    "for i in range(0,num_rows):\n",
    "    for j in range(0, num_rows):\n",
    "        y_diff_sqrd = coord[i,1] - coord[j,1]\n",
    "        print(F' y[{atoms[i]}]1 - y[{atoms[j]}]2 = {y_diff_sqrd}')\n",
    "        "
   ]
  },
  {
   "cell_type": "code",
   "execution_count": 128,
   "metadata": {},
   "outputs": [
    {
     "name": "stdout",
     "output_type": "stream",
     "text": [
      "O\tto\tO\t:\t0.000\n",
      "O\tto\tH1\t:\t0.969\n",
      "O\tto\tH2\t:\t0.969\n",
      "H1\tto\tO\t:\t0.969\n",
      "H1\tto\tH1\t:\t0.000\n",
      "H1\tto\tH2\t:\t1.527\n",
      "H2\tto\tO\t:\t0.969\n",
      "H2\tto\tH1\t:\t1.527\n",
      "H2\tto\tH2\t:\t0.000\n"
     ]
    }
   ],
   "source": [
    "# loop to obtain the distance/bond length between each coordinates using distance formula\n",
    "\n",
    "for i in range(0, num_rows):\n",
    "    for j in range(0, num_rows):\n",
    "        \n",
    "        # take the difference between the x's, y's, and the z's and square each\n",
    "        x_diff_sqrd = (coord[i,0] - coord[j,0])**2\n",
    "        y_diff_sqrd = (coord[i,1] - coord[j,1])**2\n",
    "        z_diff_sqrd = (coord[i,2] - coord[j,2])**2\n",
    "        \n",
    "        #sum of the squares\n",
    "        xyz_sum = x_diff_sqrd + y_diff_sqrd + z_diff_sqrd\n",
    "\n",
    "        distances = numpy.sqrt(xyz_sum)\n",
    "        \n",
    "        #print(distances)\n",
    "        print(F'{atoms[i]}\\tto\\t{atoms[j]}\\t:\\t{distances:.3f}')"
   ]
  },
  {
   "cell_type": "code",
   "execution_count": null,
   "metadata": {},
   "outputs": [],
   "source": []
  }
 ],
 "metadata": {
  "kernelspec": {
   "display_name": "Python 3",
   "language": "python",
   "name": "python3"
  },
  "language_info": {
   "codemirror_mode": {
    "name": "ipython",
    "version": 3
   },
   "file_extension": ".py",
   "mimetype": "text/x-python",
   "name": "python",
   "nbconvert_exporter": "python",
   "pygments_lexer": "ipython3",
   "version": "3.7.6"
  }
 },
 "nbformat": 4,
 "nbformat_minor": 4
}
